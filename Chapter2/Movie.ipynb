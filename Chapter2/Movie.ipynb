{
 "cells": [
  {
   "cell_type": "markdown",
   "id": "d7aaf00c-c2e9-4074-9be5-91720fedfbbb",
   "metadata": {},
   "source": [
    "1. As mentioned earlier, we extracted user-movie relationships only from the\n",
    "movie rating data where most ratings are unknown. Can you also utilize\n",
    "data from the files movies.dat and users.dat"
   ]
  },
  {
   "cell_type": "code",
   "execution_count": 1,
   "id": "eb8114b1-84ba-431f-a403-b477ca1b2ced",
   "metadata": {},
   "outputs": [],
   "source": [
    "import numpy as np\n",
    "import pandas as pd\n",
    "import scipy\n",
    "import matplotlib.pyplot as plt\n",
    "import seaborn as sns\n",
    "from collections import defaultdict\n",
    "from pprint import pprint\n",
    "from IPython.display import display"
   ]
  },
  {
   "cell_type": "code",
   "execution_count": null,
   "id": "4888b540-7f93-4475-bc2d-f5b95a11256f",
   "metadata": {},
   "outputs": [],
   "source": [
    "در این قسمت کتابخانه های مورد نیاز اضافه شده است"
   ]
  },
  {
   "cell_type": "markdown",
   "id": "0d8b9235-7c0e-4792-8cc6-3a02c818d60c",
   "metadata": {},
   "source": [
    "#### Movie Recommendation Engine (Naive Bayes)"
   ]
  },
  {
   "cell_type": "code",
   "execution_count": 2,
   "id": "59ffa1e9-15b0-40e9-8fe3-2aab6eb212d1",
   "metadata": {
    "collapsed": true,
    "jupyter": {
     "outputs_hidden": true
    },
    "tags": []
   },
   "outputs": [
    {
     "name": "stderr",
     "output_type": "stream",
     "text": [
      "C:\\Users\\sepah\\AppData\\Local\\Temp\\ipykernel_11204\\4183090225.py:1: ParserWarning: Falling back to the 'python' engine because the 'c' engine does not support regex separators (separators > 1 char and different from '\\s+' are interpreted as regex); you can avoid this warning by specifying engine='python'.\n",
      "  df_rating=pd.read_csv(\"ml-1m/ratings.dat\", sep=\"::\",names=[\"UserID\",\"MovieID\",\"Rating\",\"Timestamp\"])\n",
      "C:\\Users\\sepah\\AppData\\Local\\Temp\\ipykernel_11204\\4183090225.py:2: ParserWarning: Falling back to the 'python' engine because the 'c' engine does not support regex separators (separators > 1 char and different from '\\s+' are interpreted as regex); you can avoid this warning by specifying engine='python'.\n",
      "  df_user=pd.read_csv(\"ml-1m/users.dat\", sep=\"::\",names=[\"UserID\",\"Gender\",\"Age\",\"Occupation\",\"Zip-code\"])\n",
      "C:\\Users\\sepah\\AppData\\Local\\Temp\\ipykernel_11204\\4183090225.py:3: ParserWarning: Falling back to the 'python' engine because the 'c' engine does not support regex separators (separators > 1 char and different from '\\s+' are interpreted as regex); you can avoid this warning by specifying engine='python'.\n",
      "  df_movie=pd.read_csv(\"ml-1m/movies.dat\", sep=\"::\",names=[\"MovieID\",\"Title\",\"Genres\"])\n"
     ]
    }
   ],
   "source": [
    "df_rating=pd.read_csv(\"ml-1m/ratings.dat\", sep=\"::\",names=[\"UserID\",\"MovieID\",\"Rating\",\"Timestamp\"])\n",
    "df_user=pd.read_csv(\"ml-1m/users.dat\", sep=\"::\",names=[\"UserID\",\"Gender\",\"Age\",\"Occupation\",\"Zip-code\"])\n",
    "df_movie=pd.read_csv(\"ml-1m/movies.dat\", sep=\"::\",names=[\"MovieID\",\"Title\",\"Genres\"])"
   ]
  },
  {
   "cell_type": "code",
   "execution_count": null,
   "id": "5952b47e-d991-40ce-8643-4e84f0e4291d",
   "metadata": {},
   "outputs": [],
   "source": [
    "در این قسمت اطلاعات از سه جدول مختلف خوانده شده و در سه دیتافریم مختلف ذخیره شده است"
   ]
  },
  {
   "cell_type": "code",
   "execution_count": 3,
   "id": "65fea9df-5ea0-45e1-97c1-f446c1c93f27",
   "metadata": {},
   "outputs": [
    {
     "data": {
      "text/html": [
       "<div>\n",
       "<style scoped>\n",
       "    .dataframe tbody tr th:only-of-type {\n",
       "        vertical-align: middle;\n",
       "    }\n",
       "\n",
       "    .dataframe tbody tr th {\n",
       "        vertical-align: top;\n",
       "    }\n",
       "\n",
       "    .dataframe thead th {\n",
       "        text-align: right;\n",
       "    }\n",
       "</style>\n",
       "<table border=\"1\" class=\"dataframe\">\n",
       "  <thead>\n",
       "    <tr style=\"text-align: right;\">\n",
       "      <th></th>\n",
       "      <th>UserID</th>\n",
       "      <th>Gender</th>\n",
       "      <th>Age</th>\n",
       "      <th>Occupation</th>\n",
       "      <th>Zip-code</th>\n",
       "    </tr>\n",
       "  </thead>\n",
       "  <tbody>\n",
       "    <tr>\n",
       "      <th>0</th>\n",
       "      <td>1</td>\n",
       "      <td>F</td>\n",
       "      <td>1</td>\n",
       "      <td>10</td>\n",
       "      <td>48067</td>\n",
       "    </tr>\n",
       "    <tr>\n",
       "      <th>1</th>\n",
       "      <td>2</td>\n",
       "      <td>M</td>\n",
       "      <td>56</td>\n",
       "      <td>16</td>\n",
       "      <td>70072</td>\n",
       "    </tr>\n",
       "  </tbody>\n",
       "</table>\n",
       "</div>"
      ],
      "text/plain": [
       "   UserID Gender  Age  Occupation Zip-code\n",
       "0       1      F    1          10    48067\n",
       "1       2      M   56          16    70072"
      ]
     },
     "metadata": {},
     "output_type": "display_data"
    },
    {
     "data": {
      "text/plain": [
       "'df_user.shape,=((6040, 5),)'"
      ]
     },
     "metadata": {},
     "output_type": "display_data"
    },
    {
     "data": {
      "text/html": [
       "<div>\n",
       "<style scoped>\n",
       "    .dataframe tbody tr th:only-of-type {\n",
       "        vertical-align: middle;\n",
       "    }\n",
       "\n",
       "    .dataframe tbody tr th {\n",
       "        vertical-align: top;\n",
       "    }\n",
       "\n",
       "    .dataframe thead th {\n",
       "        text-align: right;\n",
       "    }\n",
       "</style>\n",
       "<table border=\"1\" class=\"dataframe\">\n",
       "  <thead>\n",
       "    <tr style=\"text-align: right;\">\n",
       "      <th></th>\n",
       "      <th>MovieID</th>\n",
       "      <th>Title</th>\n",
       "      <th>Genres</th>\n",
       "    </tr>\n",
       "  </thead>\n",
       "  <tbody>\n",
       "    <tr>\n",
       "      <th>0</th>\n",
       "      <td>1</td>\n",
       "      <td>Toy Story (1995)</td>\n",
       "      <td>Animation|Children's|Comedy</td>\n",
       "    </tr>\n",
       "    <tr>\n",
       "      <th>1</th>\n",
       "      <td>2</td>\n",
       "      <td>Jumanji (1995)</td>\n",
       "      <td>Adventure|Children's|Fantasy</td>\n",
       "    </tr>\n",
       "  </tbody>\n",
       "</table>\n",
       "</div>"
      ],
      "text/plain": [
       "   MovieID             Title                        Genres\n",
       "0        1  Toy Story (1995)   Animation|Children's|Comedy\n",
       "1        2    Jumanji (1995)  Adventure|Children's|Fantasy"
      ]
     },
     "metadata": {},
     "output_type": "display_data"
    },
    {
     "data": {
      "text/plain": [
       "'df_movie.shape,=((3883, 3),)'"
      ]
     },
     "metadata": {},
     "output_type": "display_data"
    },
    {
     "data": {
      "text/html": [
       "<div>\n",
       "<style scoped>\n",
       "    .dataframe tbody tr th:only-of-type {\n",
       "        vertical-align: middle;\n",
       "    }\n",
       "\n",
       "    .dataframe tbody tr th {\n",
       "        vertical-align: top;\n",
       "    }\n",
       "\n",
       "    .dataframe thead th {\n",
       "        text-align: right;\n",
       "    }\n",
       "</style>\n",
       "<table border=\"1\" class=\"dataframe\">\n",
       "  <thead>\n",
       "    <tr style=\"text-align: right;\">\n",
       "      <th></th>\n",
       "      <th>UserID</th>\n",
       "      <th>MovieID</th>\n",
       "      <th>Rating</th>\n",
       "      <th>Timestamp</th>\n",
       "    </tr>\n",
       "  </thead>\n",
       "  <tbody>\n",
       "    <tr>\n",
       "      <th>0</th>\n",
       "      <td>1</td>\n",
       "      <td>1193</td>\n",
       "      <td>5</td>\n",
       "      <td>978300760</td>\n",
       "    </tr>\n",
       "    <tr>\n",
       "      <th>1</th>\n",
       "      <td>1</td>\n",
       "      <td>661</td>\n",
       "      <td>3</td>\n",
       "      <td>978302109</td>\n",
       "    </tr>\n",
       "  </tbody>\n",
       "</table>\n",
       "</div>"
      ],
      "text/plain": [
       "   UserID  MovieID  Rating  Timestamp\n",
       "0       1     1193       5  978300760\n",
       "1       1      661       3  978302109"
      ]
     },
     "metadata": {},
     "output_type": "display_data"
    },
    {
     "name": "stdout",
     "output_type": "stream",
     "text": [
      "df_rating.shape,=((1000209, 4),)\n"
     ]
    }
   ],
   "source": [
    "display(df_user.head(2))\n",
    "display(f\"{df_user.shape,=}\")\n",
    "\n",
    "display(df_movie.head(2))\n",
    "display(f\"{df_movie.shape,=}\")\n",
    "\n",
    "display(df_rating.head(2))\n",
    "print(f\"{df_rating.shape,=}\")"
   ]
  },
  {
   "cell_type": "code",
   "execution_count": null,
   "id": "3e6d721e-fe5c-4fd3-b169-6c2780a3e270",
   "metadata": {},
   "outputs": [],
   "source": [
    "محتویات سه دیتا فریم\n",
    "df_user, df_movie, df_rating\n",
    "و تعداد رکوردها و فیلدها نمایش داده شده است"
   ]
  },
  {
   "cell_type": "code",
   "execution_count": 4,
   "id": "c853eef1-8012-41cb-9a4b-ae535439027d",
   "metadata": {},
   "outputs": [
    {
     "name": "stdout",
     "output_type": "stream",
     "text": [
      "df_user['UserID'].nunique(),=(6040,)\n",
      "df_user['Age'].nunique(),=(7,)\n",
      "df_user['Occupation'].nunique(),=(21,)\n",
      "df_movie['MovieID'].nunique(),=(3883,)\n",
      "\n",
      "df_rating['UserID'].nunique(),=(6040,)\n",
      "df_rating['MovieID'].nunique(),=(3706,)\n"
     ]
    }
   ],
   "source": [
    "print(f\"{df_user['UserID'].nunique(),=}\")\n",
    "print(f\"{df_user['Age'].nunique(),=}\")\n",
    "print(f\"{df_user['Occupation'].nunique(),=}\")\n",
    "print(f\"{df_movie['MovieID'].nunique(),=}\")\n",
    "print()\n",
    "print(f\"{df_rating['UserID'].nunique(),=}\")\n",
    "print(f\"{df_rating['MovieID'].nunique(),=}\")"
   ]
  },
  {
   "cell_type": "code",
   "execution_count": null,
   "id": "aa92375f-91fe-45e1-ab39-725db80c57d2",
   "metadata": {},
   "outputs": [],
   "source": [
    "تعداد کاربران، سن، شغل و فیلم ها به صورت منحصر به فرد مشخص گردیده است"
   ]
  },
  {
   "cell_type": "code",
   "execution_count": 5,
   "id": "5e87e64b-d570-4a07-967f-1aecd7d32b33",
   "metadata": {},
   "outputs": [
    {
     "name": "stdout",
     "output_type": "stream",
     "text": [
      "len(Genres),=(18,)\n",
      "Genres,=({'Musical', 'Action', 'War', 'Horror', 'Romance', 'Fantasy', 'Sci-Fi', 'Adventure', \"Children's\", 'Drama', 'Animation', 'Documentary', 'Mystery', 'Film-Noir', 'Crime', 'Thriller', 'Western', 'Comedy'},)\n"
     ]
    }
   ],
   "source": [
    "df_movie[\"Genres\"]=df_movie[\"Genres\"].str.split(\"|\")\n",
    "Genres=set(df_movie[\"Genres\"].explode())\n",
    "print(f\"{len(Genres),=}\")\n",
    "print(f\"{Genres,=}\")"
   ]
  },
  {
   "cell_type": "code",
   "execution_count": null,
   "id": "2063a285-5802-453a-9289-8b602750609c",
   "metadata": {},
   "outputs": [],
   "source": [
    "در این قسمت ژانر فیلم ها مشخص شده است"
   ]
  },
  {
   "cell_type": "code",
   "execution_count": 12,
   "id": "238e5326-69a2-4a42-87cd-93d2cb9983d2",
   "metadata": {},
   "outputs": [
    {
     "data": {
      "text/html": [
       "<div>\n",
       "<style scoped>\n",
       "    .dataframe tbody tr th:only-of-type {\n",
       "        vertical-align: middle;\n",
       "    }\n",
       "\n",
       "    .dataframe tbody tr th {\n",
       "        vertical-align: top;\n",
       "    }\n",
       "\n",
       "    .dataframe thead th {\n",
       "        text-align: right;\n",
       "    }\n",
       "</style>\n",
       "<table border=\"1\" class=\"dataframe\">\n",
       "  <thead>\n",
       "    <tr style=\"text-align: right;\">\n",
       "      <th></th>\n",
       "      <th>UserID</th>\n",
       "      <th>Gender</th>\n",
       "      <th>O_0</th>\n",
       "      <th>O_1</th>\n",
       "      <th>O_2</th>\n",
       "      <th>O_3</th>\n",
       "      <th>O_4</th>\n",
       "      <th>O_5</th>\n",
       "      <th>O_6</th>\n",
       "      <th>O_7</th>\n",
       "      <th>...</th>\n",
       "      <th>O_18</th>\n",
       "      <th>O_19</th>\n",
       "      <th>O_20</th>\n",
       "      <th>Age_1</th>\n",
       "      <th>Age_18</th>\n",
       "      <th>Age_25</th>\n",
       "      <th>Age_35</th>\n",
       "      <th>Age_45</th>\n",
       "      <th>Age_50</th>\n",
       "      <th>Age_56</th>\n",
       "    </tr>\n",
       "  </thead>\n",
       "  <tbody>\n",
       "    <tr>\n",
       "      <th>0</th>\n",
       "      <td>1</td>\n",
       "      <td>0</td>\n",
       "      <td>0</td>\n",
       "      <td>0</td>\n",
       "      <td>0</td>\n",
       "      <td>0</td>\n",
       "      <td>0</td>\n",
       "      <td>0</td>\n",
       "      <td>0</td>\n",
       "      <td>0</td>\n",
       "      <td>...</td>\n",
       "      <td>0</td>\n",
       "      <td>0</td>\n",
       "      <td>0</td>\n",
       "      <td>1</td>\n",
       "      <td>0</td>\n",
       "      <td>0</td>\n",
       "      <td>0</td>\n",
       "      <td>0</td>\n",
       "      <td>0</td>\n",
       "      <td>0</td>\n",
       "    </tr>\n",
       "    <tr>\n",
       "      <th>1</th>\n",
       "      <td>2</td>\n",
       "      <td>1</td>\n",
       "      <td>0</td>\n",
       "      <td>0</td>\n",
       "      <td>0</td>\n",
       "      <td>0</td>\n",
       "      <td>0</td>\n",
       "      <td>0</td>\n",
       "      <td>0</td>\n",
       "      <td>0</td>\n",
       "      <td>...</td>\n",
       "      <td>0</td>\n",
       "      <td>0</td>\n",
       "      <td>0</td>\n",
       "      <td>0</td>\n",
       "      <td>0</td>\n",
       "      <td>0</td>\n",
       "      <td>0</td>\n",
       "      <td>0</td>\n",
       "      <td>0</td>\n",
       "      <td>1</td>\n",
       "    </tr>\n",
       "  </tbody>\n",
       "</table>\n",
       "<p>2 rows × 30 columns</p>\n",
       "</div>"
      ],
      "text/plain": [
       "   UserID  Gender  O_0  O_1  O_2  O_3  O_4  O_5  O_6  O_7  ...  O_18  O_19  \\\n",
       "0       1       0    0    0    0    0    0    0    0    0  ...     0     0   \n",
       "1       2       1    0    0    0    0    0    0    0    0  ...     0     0   \n",
       "\n",
       "   O_20  Age_1  Age_18  Age_25  Age_35  Age_45  Age_50  Age_56  \n",
       "0     0      1       0       0       0       0       0       0  \n",
       "1     0      0       0       0       0       0       0       1  \n",
       "\n",
       "[2 rows x 30 columns]"
      ]
     },
     "execution_count": 12,
     "metadata": {},
     "output_type": "execute_result"
    }
   ],
   "source": [
    "#User Preprocess:\n",
    "Occupation=pd.get_dummies(df_user[\"Occupation\"], prefix=\"O\").astype(int)\n",
    "Age=pd.get_dummies(df_user[\"Age\"], prefix=\"Age\").astype(int)\n",
    "df_user[\"Gender\"]=df_user[\"Gender\"].replace({\"F\":0, \"M\":1}).astype(int)\n",
    "\n",
    "df_user_p = pd.concat([df_user, Occupation], axis=1)\n",
    "df_user_p = pd.concat([df_user_p, Age], axis=1)\n",
    "df_user_p=df_user_p.drop(columns=[\"Occupation\",\"Zip-code\", \"Age\"])\n",
    "df_user_p.head(2)"
   ]
  },
  {
   "cell_type": "code",
   "execution_count": null,
   "id": "8dcf6128-e06d-4e51-900f-d7d3f7ab003d",
   "metadata": {},
   "outputs": [],
   "source": [
    "در این قسمت User Preprocess \n",
    "از قبیل onehot\n",
    "کردن شغل و سن\n",
    "و تبدیل جنسیت انجام شده و در نهایت دیتافریم\n",
    "df_user_p\n",
    "ایجاد گردیده است"
   ]
  },
  {
   "cell_type": "code",
   "execution_count": 6,
   "id": "495bf0f9-edca-405c-8f61-38f05e801455",
   "metadata": {},
   "outputs": [
    {
     "data": {
      "text/html": [
       "<div>\n",
       "<style scoped>\n",
       "    .dataframe tbody tr th:only-of-type {\n",
       "        vertical-align: middle;\n",
       "    }\n",
       "\n",
       "    .dataframe tbody tr th {\n",
       "        vertical-align: top;\n",
       "    }\n",
       "\n",
       "    .dataframe thead th {\n",
       "        text-align: right;\n",
       "    }\n",
       "</style>\n",
       "<table border=\"1\" class=\"dataframe\">\n",
       "  <thead>\n",
       "    <tr style=\"text-align: right;\">\n",
       "      <th></th>\n",
       "      <th>MovieID</th>\n",
       "      <th>Title</th>\n",
       "      <th>Genres</th>\n",
       "    </tr>\n",
       "  </thead>\n",
       "  <tbody>\n",
       "    <tr>\n",
       "      <th>0</th>\n",
       "      <td>1</td>\n",
       "      <td>Toy Story (1995)</td>\n",
       "      <td>[Animation, Children's, Comedy]</td>\n",
       "    </tr>\n",
       "    <tr>\n",
       "      <th>1</th>\n",
       "      <td>2</td>\n",
       "      <td>Jumanji (1995)</td>\n",
       "      <td>[Adventure, Children's, Fantasy]</td>\n",
       "    </tr>\n",
       "  </tbody>\n",
       "</table>\n",
       "</div>"
      ],
      "text/plain": [
       "   MovieID             Title                            Genres\n",
       "0        1  Toy Story (1995)   [Animation, Children's, Comedy]\n",
       "1        2    Jumanji (1995)  [Adventure, Children's, Fantasy]"
      ]
     },
     "metadata": {},
     "output_type": "display_data"
    },
    {
     "name": "stdout",
     "output_type": "stream",
     "text": [
      "df_movie.shape,=((3883, 3),)\n",
      "len(Genres),=(18,)\n"
     ]
    }
   ],
   "source": [
    "display(df_movie.head(2))\n",
    "print(f\"{df_movie.shape,=}\")\n",
    "print(f\"{len(Genres),=}\")"
   ]
  },
  {
   "cell_type": "code",
   "execution_count": null,
   "id": "d7cbc887-0165-42ac-a28c-0946f3331320",
   "metadata": {},
   "outputs": [],
   "source": [
    "دیتا فریم df_movie نمایش داده شده"
   ]
  },
  {
   "cell_type": "code",
   "execution_count": 7,
   "id": "29484e60-8630-4f62-9e1e-aedfb74e56be",
   "metadata": {
    "tags": []
   },
   "outputs": [
    {
     "name": "stdout",
     "output_type": "stream",
     "text": [
      "(3883, 18)\n"
     ]
    },
    {
     "data": {
      "text/html": [
       "<div>\n",
       "<style scoped>\n",
       "    .dataframe tbody tr th:only-of-type {\n",
       "        vertical-align: middle;\n",
       "    }\n",
       "\n",
       "    .dataframe tbody tr th {\n",
       "        vertical-align: top;\n",
       "    }\n",
       "\n",
       "    .dataframe thead th {\n",
       "        text-align: right;\n",
       "    }\n",
       "</style>\n",
       "<table border=\"1\" class=\"dataframe\">\n",
       "  <thead>\n",
       "    <tr style=\"text-align: right;\">\n",
       "      <th></th>\n",
       "      <th>G_0</th>\n",
       "      <th>G_1</th>\n",
       "      <th>G_2</th>\n",
       "      <th>G_3</th>\n",
       "      <th>G_4</th>\n",
       "      <th>G_5</th>\n",
       "      <th>G_6</th>\n",
       "      <th>G_7</th>\n",
       "      <th>G_8</th>\n",
       "      <th>G_9</th>\n",
       "      <th>G_10</th>\n",
       "      <th>G_11</th>\n",
       "      <th>G_12</th>\n",
       "      <th>G_13</th>\n",
       "      <th>G_14</th>\n",
       "      <th>G_15</th>\n",
       "      <th>G_16</th>\n",
       "      <th>G_17</th>\n",
       "    </tr>\n",
       "  </thead>\n",
       "  <tbody>\n",
       "    <tr>\n",
       "      <th>0</th>\n",
       "      <td>0</td>\n",
       "      <td>0</td>\n",
       "      <td>1</td>\n",
       "      <td>1</td>\n",
       "      <td>1</td>\n",
       "      <td>0</td>\n",
       "      <td>0</td>\n",
       "      <td>0</td>\n",
       "      <td>0</td>\n",
       "      <td>0</td>\n",
       "      <td>0</td>\n",
       "      <td>0</td>\n",
       "      <td>0</td>\n",
       "      <td>0</td>\n",
       "      <td>0</td>\n",
       "      <td>0</td>\n",
       "      <td>0</td>\n",
       "      <td>0</td>\n",
       "    </tr>\n",
       "    <tr>\n",
       "      <th>1</th>\n",
       "      <td>0</td>\n",
       "      <td>1</td>\n",
       "      <td>0</td>\n",
       "      <td>1</td>\n",
       "      <td>0</td>\n",
       "      <td>0</td>\n",
       "      <td>0</td>\n",
       "      <td>0</td>\n",
       "      <td>1</td>\n",
       "      <td>0</td>\n",
       "      <td>0</td>\n",
       "      <td>0</td>\n",
       "      <td>0</td>\n",
       "      <td>0</td>\n",
       "      <td>0</td>\n",
       "      <td>0</td>\n",
       "      <td>0</td>\n",
       "      <td>0</td>\n",
       "    </tr>\n",
       "  </tbody>\n",
       "</table>\n",
       "</div>"
      ],
      "text/plain": [
       "   G_0  G_1  G_2  G_3  G_4  G_5  G_6  G_7  G_8  G_9  G_10  G_11  G_12  G_13  \\\n",
       "0    0    0    1    1    1    0    0    0    0    0     0     0     0     0   \n",
       "1    0    1    0    1    0    0    0    0    1    0     0     0     0     0   \n",
       "\n",
       "   G_14  G_15  G_16  G_17  \n",
       "0     0     0     0     0  \n",
       "1     0     0     0     0  "
      ]
     },
     "metadata": {},
     "output_type": "display_data"
    }
   ],
   "source": [
    "# Movie Preprocess:\n",
    "from sklearn.preprocessing import MultiLabelBinarizer\n",
    "Genres_Binarizer=MultiLabelBinarizer().fit_transform(df_movie[\"Genres\"])\n",
    "col=[f\"G_{i}\" for i in range(len(Genres))]\n",
    "Genres_Binarizer=pd.DataFrame(Genres_Binarizer, columns=col).astype(int)\n",
    "print(Genres_Binarizer.shape)\n",
    "display(Genres_Binarizer.head(2))"
   ]
  },
  {
   "cell_type": "code",
   "execution_count": null,
   "id": "19819bbf-5d7c-4caa-9968-69c080b4fa25",
   "metadata": {},
   "outputs": [],
   "source": [
    "پیش پردازش های Movie\n",
    "انجام شده ستون ژانر را از طریق\n",
    "MultiLabelBinarizer\n",
    "پیش پردازش کرده ایم\n",
    "و درنهایت آن را نمایش داده ایم"
   ]
  },
  {
   "cell_type": "code",
   "execution_count": 10,
   "id": "59f97408-4c2b-4ca9-a0d2-1625d00cb7b4",
   "metadata": {
    "tags": []
   },
   "outputs": [
    {
     "data": {
      "text/html": [
       "<div>\n",
       "<style scoped>\n",
       "    .dataframe tbody tr th:only-of-type {\n",
       "        vertical-align: middle;\n",
       "    }\n",
       "\n",
       "    .dataframe tbody tr th {\n",
       "        vertical-align: top;\n",
       "    }\n",
       "\n",
       "    .dataframe thead th {\n",
       "        text-align: right;\n",
       "    }\n",
       "</style>\n",
       "<table border=\"1\" class=\"dataframe\">\n",
       "  <thead>\n",
       "    <tr style=\"text-align: right;\">\n",
       "      <th></th>\n",
       "      <th>MovieID</th>\n",
       "      <th>G_0</th>\n",
       "      <th>G_1</th>\n",
       "      <th>G_2</th>\n",
       "      <th>G_3</th>\n",
       "      <th>G_4</th>\n",
       "      <th>G_5</th>\n",
       "      <th>G_6</th>\n",
       "      <th>G_7</th>\n",
       "      <th>G_8</th>\n",
       "      <th>G_9</th>\n",
       "      <th>G_10</th>\n",
       "      <th>G_11</th>\n",
       "      <th>G_12</th>\n",
       "      <th>G_13</th>\n",
       "      <th>G_14</th>\n",
       "      <th>G_15</th>\n",
       "      <th>G_16</th>\n",
       "      <th>G_17</th>\n",
       "    </tr>\n",
       "  </thead>\n",
       "  <tbody>\n",
       "    <tr>\n",
       "      <th>0</th>\n",
       "      <td>1</td>\n",
       "      <td>0</td>\n",
       "      <td>0</td>\n",
       "      <td>1</td>\n",
       "      <td>1</td>\n",
       "      <td>1</td>\n",
       "      <td>0</td>\n",
       "      <td>0</td>\n",
       "      <td>0</td>\n",
       "      <td>0</td>\n",
       "      <td>0</td>\n",
       "      <td>0</td>\n",
       "      <td>0</td>\n",
       "      <td>0</td>\n",
       "      <td>0</td>\n",
       "      <td>0</td>\n",
       "      <td>0</td>\n",
       "      <td>0</td>\n",
       "      <td>0</td>\n",
       "    </tr>\n",
       "    <tr>\n",
       "      <th>1</th>\n",
       "      <td>2</td>\n",
       "      <td>0</td>\n",
       "      <td>1</td>\n",
       "      <td>0</td>\n",
       "      <td>1</td>\n",
       "      <td>0</td>\n",
       "      <td>0</td>\n",
       "      <td>0</td>\n",
       "      <td>0</td>\n",
       "      <td>1</td>\n",
       "      <td>0</td>\n",
       "      <td>0</td>\n",
       "      <td>0</td>\n",
       "      <td>0</td>\n",
       "      <td>0</td>\n",
       "      <td>0</td>\n",
       "      <td>0</td>\n",
       "      <td>0</td>\n",
       "      <td>0</td>\n",
       "    </tr>\n",
       "  </tbody>\n",
       "</table>\n",
       "</div>"
      ],
      "text/plain": [
       "   MovieID  G_0  G_1  G_2  G_3  G_4  G_5  G_6  G_7  G_8  G_9  G_10  G_11  \\\n",
       "0        1    0    0    1    1    1    0    0    0    0    0     0     0   \n",
       "1        2    0    1    0    1    0    0    0    0    1    0     0     0   \n",
       "\n",
       "   G_12  G_13  G_14  G_15  G_16  G_17  \n",
       "0     0     0     0     0     0     0  \n",
       "1     0     0     0     0     0     0  "
      ]
     },
     "execution_count": 10,
     "metadata": {},
     "output_type": "execute_result"
    }
   ],
   "source": [
    "df_movie_p = pd.concat([df_movie, Genres_Binarizer], axis=1)\n",
    "df_movie_p = df_movie_p.drop(columns=[\"Genres\", \"Title\"])\n",
    "df_movie_p.head(2)"
   ]
  },
  {
   "cell_type": "code",
   "execution_count": null,
   "id": "0765fcd2-46ba-4bff-a3c1-9f44167f60ea",
   "metadata": {},
   "outputs": [],
   "source": [
    "پس از پیش پردازش انجام شده بر روی df_movie\n",
    "ستون های عنوان و ژانر را حذف می کنیم\n",
    "ستون عنوان نیاز به پردازش متن داشته که خارج از حیطه این فصل کتاب می باشد\n",
    "در نهایت df_movie_p را می سازیم"
   ]
  },
  {
   "cell_type": "code",
   "execution_count": 13,
   "id": "bccdb79e-c282-4dc1-9a7b-9bbe864d2cb9",
   "metadata": {},
   "outputs": [
    {
     "data": {
      "text/html": [
       "<div>\n",
       "<style scoped>\n",
       "    .dataframe tbody tr th:only-of-type {\n",
       "        vertical-align: middle;\n",
       "    }\n",
       "\n",
       "    .dataframe tbody tr th {\n",
       "        vertical-align: top;\n",
       "    }\n",
       "\n",
       "    .dataframe thead th {\n",
       "        text-align: right;\n",
       "    }\n",
       "</style>\n",
       "<table border=\"1\" class=\"dataframe\">\n",
       "  <thead>\n",
       "    <tr style=\"text-align: right;\">\n",
       "      <th></th>\n",
       "      <th>UserID</th>\n",
       "      <th>MovieID</th>\n",
       "      <th>Rating</th>\n",
       "      <th>Timestamp</th>\n",
       "    </tr>\n",
       "  </thead>\n",
       "  <tbody>\n",
       "    <tr>\n",
       "      <th>0</th>\n",
       "      <td>1</td>\n",
       "      <td>1193</td>\n",
       "      <td>5</td>\n",
       "      <td>978300760</td>\n",
       "    </tr>\n",
       "    <tr>\n",
       "      <th>1</th>\n",
       "      <td>1</td>\n",
       "      <td>661</td>\n",
       "      <td>3</td>\n",
       "      <td>978302109</td>\n",
       "    </tr>\n",
       "  </tbody>\n",
       "</table>\n",
       "</div>"
      ],
      "text/plain": [
       "   UserID  MovieID  Rating  Timestamp\n",
       "0       1     1193       5  978300760\n",
       "1       1      661       3  978302109"
      ]
     },
     "metadata": {},
     "output_type": "display_data"
    },
    {
     "data": {
      "text/html": [
       "<div>\n",
       "<style scoped>\n",
       "    .dataframe tbody tr th:only-of-type {\n",
       "        vertical-align: middle;\n",
       "    }\n",
       "\n",
       "    .dataframe tbody tr th {\n",
       "        vertical-align: top;\n",
       "    }\n",
       "\n",
       "    .dataframe thead th {\n",
       "        text-align: right;\n",
       "    }\n",
       "</style>\n",
       "<table border=\"1\" class=\"dataframe\">\n",
       "  <thead>\n",
       "    <tr style=\"text-align: right;\">\n",
       "      <th></th>\n",
       "      <th>MovieID</th>\n",
       "      <th>G_0</th>\n",
       "      <th>G_1</th>\n",
       "      <th>G_2</th>\n",
       "      <th>G_3</th>\n",
       "      <th>G_4</th>\n",
       "      <th>G_5</th>\n",
       "      <th>G_6</th>\n",
       "      <th>G_7</th>\n",
       "      <th>G_8</th>\n",
       "      <th>G_9</th>\n",
       "      <th>G_10</th>\n",
       "      <th>G_11</th>\n",
       "      <th>G_12</th>\n",
       "      <th>G_13</th>\n",
       "      <th>G_14</th>\n",
       "      <th>G_15</th>\n",
       "      <th>G_16</th>\n",
       "      <th>G_17</th>\n",
       "    </tr>\n",
       "  </thead>\n",
       "  <tbody>\n",
       "    <tr>\n",
       "      <th>0</th>\n",
       "      <td>1</td>\n",
       "      <td>0</td>\n",
       "      <td>0</td>\n",
       "      <td>1</td>\n",
       "      <td>1</td>\n",
       "      <td>1</td>\n",
       "      <td>0</td>\n",
       "      <td>0</td>\n",
       "      <td>0</td>\n",
       "      <td>0</td>\n",
       "      <td>0</td>\n",
       "      <td>0</td>\n",
       "      <td>0</td>\n",
       "      <td>0</td>\n",
       "      <td>0</td>\n",
       "      <td>0</td>\n",
       "      <td>0</td>\n",
       "      <td>0</td>\n",
       "      <td>0</td>\n",
       "    </tr>\n",
       "    <tr>\n",
       "      <th>1</th>\n",
       "      <td>2</td>\n",
       "      <td>0</td>\n",
       "      <td>1</td>\n",
       "      <td>0</td>\n",
       "      <td>1</td>\n",
       "      <td>0</td>\n",
       "      <td>0</td>\n",
       "      <td>0</td>\n",
       "      <td>0</td>\n",
       "      <td>1</td>\n",
       "      <td>0</td>\n",
       "      <td>0</td>\n",
       "      <td>0</td>\n",
       "      <td>0</td>\n",
       "      <td>0</td>\n",
       "      <td>0</td>\n",
       "      <td>0</td>\n",
       "      <td>0</td>\n",
       "      <td>0</td>\n",
       "    </tr>\n",
       "  </tbody>\n",
       "</table>\n",
       "</div>"
      ],
      "text/plain": [
       "   MovieID  G_0  G_1  G_2  G_3  G_4  G_5  G_6  G_7  G_8  G_9  G_10  G_11  \\\n",
       "0        1    0    0    1    1    1    0    0    0    0    0     0     0   \n",
       "1        2    0    1    0    1    0    0    0    0    1    0     0     0   \n",
       "\n",
       "   G_12  G_13  G_14  G_15  G_16  G_17  \n",
       "0     0     0     0     0     0     0  \n",
       "1     0     0     0     0     0     0  "
      ]
     },
     "metadata": {},
     "output_type": "display_data"
    },
    {
     "data": {
      "text/html": [
       "<div>\n",
       "<style scoped>\n",
       "    .dataframe tbody tr th:only-of-type {\n",
       "        vertical-align: middle;\n",
       "    }\n",
       "\n",
       "    .dataframe tbody tr th {\n",
       "        vertical-align: top;\n",
       "    }\n",
       "\n",
       "    .dataframe thead th {\n",
       "        text-align: right;\n",
       "    }\n",
       "</style>\n",
       "<table border=\"1\" class=\"dataframe\">\n",
       "  <thead>\n",
       "    <tr style=\"text-align: right;\">\n",
       "      <th></th>\n",
       "      <th>UserID</th>\n",
       "      <th>Gender</th>\n",
       "      <th>O_0</th>\n",
       "      <th>O_1</th>\n",
       "      <th>O_2</th>\n",
       "      <th>O_3</th>\n",
       "      <th>O_4</th>\n",
       "      <th>O_5</th>\n",
       "      <th>O_6</th>\n",
       "      <th>O_7</th>\n",
       "      <th>...</th>\n",
       "      <th>O_18</th>\n",
       "      <th>O_19</th>\n",
       "      <th>O_20</th>\n",
       "      <th>Age_1</th>\n",
       "      <th>Age_18</th>\n",
       "      <th>Age_25</th>\n",
       "      <th>Age_35</th>\n",
       "      <th>Age_45</th>\n",
       "      <th>Age_50</th>\n",
       "      <th>Age_56</th>\n",
       "    </tr>\n",
       "  </thead>\n",
       "  <tbody>\n",
       "    <tr>\n",
       "      <th>0</th>\n",
       "      <td>1</td>\n",
       "      <td>0</td>\n",
       "      <td>0</td>\n",
       "      <td>0</td>\n",
       "      <td>0</td>\n",
       "      <td>0</td>\n",
       "      <td>0</td>\n",
       "      <td>0</td>\n",
       "      <td>0</td>\n",
       "      <td>0</td>\n",
       "      <td>...</td>\n",
       "      <td>0</td>\n",
       "      <td>0</td>\n",
       "      <td>0</td>\n",
       "      <td>1</td>\n",
       "      <td>0</td>\n",
       "      <td>0</td>\n",
       "      <td>0</td>\n",
       "      <td>0</td>\n",
       "      <td>0</td>\n",
       "      <td>0</td>\n",
       "    </tr>\n",
       "    <tr>\n",
       "      <th>1</th>\n",
       "      <td>2</td>\n",
       "      <td>1</td>\n",
       "      <td>0</td>\n",
       "      <td>0</td>\n",
       "      <td>0</td>\n",
       "      <td>0</td>\n",
       "      <td>0</td>\n",
       "      <td>0</td>\n",
       "      <td>0</td>\n",
       "      <td>0</td>\n",
       "      <td>...</td>\n",
       "      <td>0</td>\n",
       "      <td>0</td>\n",
       "      <td>0</td>\n",
       "      <td>0</td>\n",
       "      <td>0</td>\n",
       "      <td>0</td>\n",
       "      <td>0</td>\n",
       "      <td>0</td>\n",
       "      <td>0</td>\n",
       "      <td>1</td>\n",
       "    </tr>\n",
       "  </tbody>\n",
       "</table>\n",
       "<p>2 rows × 30 columns</p>\n",
       "</div>"
      ],
      "text/plain": [
       "   UserID  Gender  O_0  O_1  O_2  O_3  O_4  O_5  O_6  O_7  ...  O_18  O_19  \\\n",
       "0       1       0    0    0    0    0    0    0    0    0  ...     0     0   \n",
       "1       2       1    0    0    0    0    0    0    0    0  ...     0     0   \n",
       "\n",
       "   O_20  Age_1  Age_18  Age_25  Age_35  Age_45  Age_50  Age_56  \n",
       "0     0      1       0       0       0       0       0       0  \n",
       "1     0      0       0       0       0       0       0       1  \n",
       "\n",
       "[2 rows x 30 columns]"
      ]
     },
     "metadata": {},
     "output_type": "display_data"
    }
   ],
   "source": [
    "display(df_rating.head(2))\n",
    "display(df_movie_p.head(2))\n",
    "display(df_user_p.head(2))"
   ]
  },
  {
   "cell_type": "code",
   "execution_count": null,
   "id": "0031f2e1-232a-417c-89d3-07e9fb9ceb30",
   "metadata": {},
   "outputs": [],
   "source": [
    "دیتا فریم ها نمایش داده شده است"
   ]
  },
  {
   "cell_type": "code",
   "execution_count": 14,
   "id": "dd238c0e-b199-45b5-b826-258577542c1a",
   "metadata": {},
   "outputs": [
    {
     "name": "stdout",
     "output_type": "stream",
     "text": [
      "(1000209, 50)\n"
     ]
    },
    {
     "data": {
      "text/html": [
       "<div>\n",
       "<style scoped>\n",
       "    .dataframe tbody tr th:only-of-type {\n",
       "        vertical-align: middle;\n",
       "    }\n",
       "\n",
       "    .dataframe tbody tr th {\n",
       "        vertical-align: top;\n",
       "    }\n",
       "\n",
       "    .dataframe thead th {\n",
       "        text-align: right;\n",
       "    }\n",
       "</style>\n",
       "<table border=\"1\" class=\"dataframe\">\n",
       "  <thead>\n",
       "    <tr style=\"text-align: right;\">\n",
       "      <th></th>\n",
       "      <th>UserID</th>\n",
       "      <th>MovieID</th>\n",
       "      <th>Rating</th>\n",
       "      <th>Gender</th>\n",
       "      <th>O_0</th>\n",
       "      <th>O_1</th>\n",
       "      <th>O_2</th>\n",
       "      <th>O_3</th>\n",
       "      <th>O_4</th>\n",
       "      <th>O_5</th>\n",
       "      <th>...</th>\n",
       "      <th>G_8</th>\n",
       "      <th>G_9</th>\n",
       "      <th>G_10</th>\n",
       "      <th>G_11</th>\n",
       "      <th>G_12</th>\n",
       "      <th>G_13</th>\n",
       "      <th>G_14</th>\n",
       "      <th>G_15</th>\n",
       "      <th>G_16</th>\n",
       "      <th>G_17</th>\n",
       "    </tr>\n",
       "  </thead>\n",
       "  <tbody>\n",
       "    <tr>\n",
       "      <th>0</th>\n",
       "      <td>1</td>\n",
       "      <td>1193</td>\n",
       "      <td>5</td>\n",
       "      <td>0</td>\n",
       "      <td>0</td>\n",
       "      <td>0</td>\n",
       "      <td>0</td>\n",
       "      <td>0</td>\n",
       "      <td>0</td>\n",
       "      <td>0</td>\n",
       "      <td>...</td>\n",
       "      <td>0</td>\n",
       "      <td>0</td>\n",
       "      <td>0</td>\n",
       "      <td>0</td>\n",
       "      <td>0</td>\n",
       "      <td>0</td>\n",
       "      <td>0</td>\n",
       "      <td>0</td>\n",
       "      <td>0</td>\n",
       "      <td>0</td>\n",
       "    </tr>\n",
       "    <tr>\n",
       "      <th>1</th>\n",
       "      <td>1</td>\n",
       "      <td>661</td>\n",
       "      <td>3</td>\n",
       "      <td>0</td>\n",
       "      <td>0</td>\n",
       "      <td>0</td>\n",
       "      <td>0</td>\n",
       "      <td>0</td>\n",
       "      <td>0</td>\n",
       "      <td>0</td>\n",
       "      <td>...</td>\n",
       "      <td>0</td>\n",
       "      <td>0</td>\n",
       "      <td>0</td>\n",
       "      <td>1</td>\n",
       "      <td>0</td>\n",
       "      <td>0</td>\n",
       "      <td>0</td>\n",
       "      <td>0</td>\n",
       "      <td>0</td>\n",
       "      <td>0</td>\n",
       "    </tr>\n",
       "  </tbody>\n",
       "</table>\n",
       "<p>2 rows × 50 columns</p>\n",
       "</div>"
      ],
      "text/plain": [
       "   UserID  MovieID  Rating  Gender  O_0  O_1  O_2  O_3  O_4  O_5  ...  G_8  \\\n",
       "0       1     1193       5       0    0    0    0    0    0    0  ...    0   \n",
       "1       1      661       3       0    0    0    0    0    0    0  ...    0   \n",
       "\n",
       "   G_9  G_10  G_11  G_12  G_13  G_14  G_15  G_16  G_17  \n",
       "0    0     0     0     0     0     0     0     0     0  \n",
       "1    0     0     1     0     0     0     0     0     0  \n",
       "\n",
       "[2 rows x 50 columns]"
      ]
     },
     "execution_count": 14,
     "metadata": {},
     "output_type": "execute_result"
    }
   ],
   "source": [
    "df = pd.merge(df_rating, df_user_p, on=\"UserID\", how=\"left\")\n",
    "df = pd.merge(df, df_movie_p, on=\"MovieID\", how=\"left\")\n",
    "df=df.drop(columns=[\"Timestamp\"])\n",
    "print(df.shape)\n",
    "df.head(2)"
   ]
  },
  {
   "cell_type": "code",
   "execution_count": null,
   "id": "a1b66c22-0022-4639-a791-94069e35df39",
   "metadata": {},
   "outputs": [],
   "source": [
    "اطلاعات در دیتا فریم\n",
    "df_rating\n",
    "تجمیع شده و ستون \n",
    "timestamp را\n",
    "حذف می کنیم"
   ]
  },
  {
   "cell_type": "code",
   "execution_count": 15,
   "id": "09ea591a-6faa-433c-8499-edfae90d16cc",
   "metadata": {},
   "outputs": [
    {
     "name": "stdout",
     "output_type": "stream",
     "text": [
      "4    348971\n",
      "3    261197\n",
      "5    226310\n",
      "2    107557\n",
      "1     56174\n",
      "Name: Rating, dtype: int64\n",
      "\n",
      "4    0.348898\n",
      "3    0.261142\n",
      "5    0.226263\n",
      "2    0.107535\n",
      "1    0.056162\n",
      "Name: Rating, dtype: float64\n"
     ]
    }
   ],
   "source": [
    "print(df[\"Rating\"].value_counts())\n",
    "print()\n",
    "print(df[\"Rating\"].value_counts(normalize=True))"
   ]
  },
  {
   "cell_type": "code",
   "execution_count": null,
   "id": "eebc5e30-648f-45dc-a2ea-2a9150f1e6c6",
   "metadata": {},
   "outputs": [],
   "source": [
    "توزیع پراکندگی امتیازات را مشاهده کرده"
   ]
  },
  {
   "cell_type": "code",
   "execution_count": 16,
   "id": "f1b4c99e-9b73-4545-a784-ab25a02b85a2",
   "metadata": {},
   "outputs": [
    {
     "name": "stdout",
     "output_type": "stream",
     "text": [
      "df.shape,=((305373, 50),)\n"
     ]
    }
   ],
   "source": [
    "th=1000\n",
    "movie_id=df[\"MovieID\"].value_counts().sort_values(ascending=False)\n",
    "movie_id_index=movie_id[movie_id>th].index\n",
    "df=df[df[\"MovieID\"].isin(movie_id_index)]\n",
    "print(f\"{df.shape,=}\")"
   ]
  },
  {
   "cell_type": "code",
   "execution_count": null,
   "id": "042c429a-c8d9-48c1-adbf-c3571117b6fc",
   "metadata": {},
   "outputs": [],
   "source": [
    "با توجه به کتاب و اینکه تعداد نظرات برای برخی از فیلم ها کم می باشد ما فقط فیلم هایی با حداقل تعداد 1000 نظر را در نظر می گیریم\n",
    "تعداد رکوردها به 305 هزار عدد می رسد"
   ]
  },
  {
   "cell_type": "code",
   "execution_count": 17,
   "id": "3f12386c-c339-45a4-af9d-ce771b062526",
   "metadata": {},
   "outputs": [
    {
     "data": {
      "text/html": [
       "<div>\n",
       "<style scoped>\n",
       "    .dataframe tbody tr th:only-of-type {\n",
       "        vertical-align: middle;\n",
       "    }\n",
       "\n",
       "    .dataframe tbody tr th {\n",
       "        vertical-align: top;\n",
       "    }\n",
       "\n",
       "    .dataframe thead th {\n",
       "        text-align: right;\n",
       "    }\n",
       "</style>\n",
       "<table border=\"1\" class=\"dataframe\">\n",
       "  <thead>\n",
       "    <tr style=\"text-align: right;\">\n",
       "      <th></th>\n",
       "      <th>UserID</th>\n",
       "      <th>MovieID</th>\n",
       "      <th>Gender</th>\n",
       "      <th>O_0</th>\n",
       "      <th>O_1</th>\n",
       "      <th>O_2</th>\n",
       "      <th>O_3</th>\n",
       "      <th>O_4</th>\n",
       "      <th>O_5</th>\n",
       "      <th>O_6</th>\n",
       "      <th>...</th>\n",
       "      <th>G_8</th>\n",
       "      <th>G_9</th>\n",
       "      <th>G_10</th>\n",
       "      <th>G_11</th>\n",
       "      <th>G_12</th>\n",
       "      <th>G_13</th>\n",
       "      <th>G_14</th>\n",
       "      <th>G_15</th>\n",
       "      <th>G_16</th>\n",
       "      <th>G_17</th>\n",
       "    </tr>\n",
       "  </thead>\n",
       "  <tbody>\n",
       "    <tr>\n",
       "      <th>0</th>\n",
       "      <td>1</td>\n",
       "      <td>1193</td>\n",
       "      <td>0</td>\n",
       "      <td>0</td>\n",
       "      <td>0</td>\n",
       "      <td>0</td>\n",
       "      <td>0</td>\n",
       "      <td>0</td>\n",
       "      <td>0</td>\n",
       "      <td>0</td>\n",
       "      <td>...</td>\n",
       "      <td>0</td>\n",
       "      <td>0</td>\n",
       "      <td>0</td>\n",
       "      <td>0</td>\n",
       "      <td>0</td>\n",
       "      <td>0</td>\n",
       "      <td>0</td>\n",
       "      <td>0</td>\n",
       "      <td>0</td>\n",
       "      <td>0</td>\n",
       "    </tr>\n",
       "    <tr>\n",
       "      <th>3</th>\n",
       "      <td>1</td>\n",
       "      <td>3408</td>\n",
       "      <td>0</td>\n",
       "      <td>0</td>\n",
       "      <td>0</td>\n",
       "      <td>0</td>\n",
       "      <td>0</td>\n",
       "      <td>0</td>\n",
       "      <td>0</td>\n",
       "      <td>0</td>\n",
       "      <td>...</td>\n",
       "      <td>0</td>\n",
       "      <td>0</td>\n",
       "      <td>0</td>\n",
       "      <td>0</td>\n",
       "      <td>0</td>\n",
       "      <td>0</td>\n",
       "      <td>0</td>\n",
       "      <td>0</td>\n",
       "      <td>0</td>\n",
       "      <td>0</td>\n",
       "    </tr>\n",
       "  </tbody>\n",
       "</table>\n",
       "<p>2 rows × 49 columns</p>\n",
       "</div>"
      ],
      "text/plain": [
       "   UserID  MovieID  Gender  O_0  O_1  O_2  O_3  O_4  O_5  O_6  ...  G_8  G_9  \\\n",
       "0       1     1193       0    0    0    0    0    0    0    0  ...    0    0   \n",
       "3       1     3408       0    0    0    0    0    0    0    0  ...    0    0   \n",
       "\n",
       "   G_10  G_11  G_12  G_13  G_14  G_15  G_16  G_17  \n",
       "0     0     0     0     0     0     0     0     0  \n",
       "3     0     0     0     0     0     0     0     0  \n",
       "\n",
       "[2 rows x 49 columns]"
      ]
     },
     "metadata": {},
     "output_type": "display_data"
    },
    {
     "data": {
      "text/plain": [
       "0    5\n",
       "3    4\n",
       "Name: Rating, dtype: int32"
      ]
     },
     "metadata": {},
     "output_type": "display_data"
    }
   ],
   "source": [
    "X=df.drop(columns=[\"Rating\"])\n",
    "y=df[\"Rating\"].astype(int)\n",
    "\n",
    "display(X.head(2))\n",
    "display(y.head(2))"
   ]
  },
  {
   "cell_type": "code",
   "execution_count": null,
   "id": "437a227b-4df1-48da-833e-2dc2c314d817",
   "metadata": {},
   "outputs": [],
   "source": [
    "x,y \n",
    "را مشخص کرده"
   ]
  },
  {
   "cell_type": "code",
   "execution_count": 18,
   "id": "23f8c961-7c28-40cf-9306-8f38ea17fc3c",
   "metadata": {},
   "outputs": [
    {
     "name": "stdout",
     "output_type": "stream",
     "text": [
      "216,634 positive samples and 88,739 negative... samples.\n"
     ]
    }
   ],
   "source": [
    "recommend = 3\n",
    "y[y <= recommend] = 0\n",
    "y[y > recommend] = 1\n",
    "n_pos = (y == 1).sum()\n",
    "n_neg = (y == 0).sum()\n",
    "print(f'{n_pos:,} positive samples and {n_neg:,} negative... samples.')"
   ]
  },
  {
   "cell_type": "code",
   "execution_count": null,
   "id": "fcc329f4-c940-46a3-bf32-791aef7d941a",
   "metadata": {},
   "outputs": [],
   "source": [
    "با توجه به کتاب امتیازات 4و5 را جزء گروه 1\n",
    "و امتیازات زیر 3 را جزء گروه 0 \n",
    "در نظر می گیریم"
   ]
  },
  {
   "cell_type": "code",
   "execution_count": 19,
   "id": "128b2abe-ae58-457c-acef-e843dd604ee1",
   "metadata": {
    "tags": []
   },
   "outputs": [
    {
     "name": "stdout",
     "output_type": "stream",
     "text": [
      "X_train.shape,=((213761, 49),)\tX_test.shape,=((91612, 49),)\n",
      "y_train.shape,=((213761,),)\ty_test.shape,=((91612,),)\n"
     ]
    }
   ],
   "source": [
    "from sklearn.model_selection import train_test_split\n",
    "test_size=0.3\n",
    "X_train, X_test, y_train, y_test = train_test_split(X, y, test_size=test_size, shuffle=True, stratify=y)  #\n",
    "\n",
    "X_train, y_train = X_train.to_numpy(), y_train.to_numpy()\n",
    "X_test,  y_test  = X_test.to_numpy(), y_test.to_numpy()\n",
    "\n",
    "print(f\"{X_train.shape,=}\\t{X_test.shape,=}\")\n",
    "print(f\"{y_train.shape,=}\\t{y_test.shape,=}\")"
   ]
  },
  {
   "cell_type": "code",
   "execution_count": null,
   "id": "22f3f259-ee93-4069-8f9d-4d8166a9d322",
   "metadata": {},
   "outputs": [],
   "source": [
    "با نسبت 70 به 30 داده های آموزش و آزمایش را \n",
    "جدا می کنیم"
   ]
  },
  {
   "cell_type": "code",
   "execution_count": 20,
   "id": "e854b1b6-00eb-4c9c-bb14-661d1f0d6b42",
   "metadata": {},
   "outputs": [],
   "source": [
    "from sklearn.preprocessing import StandardScaler\n",
    "scaler = StandardScaler()\n",
    "X_train = scaler.fit_transform(X_train)\n",
    "X_test = scaler.transform(X_test)"
   ]
  },
  {
   "cell_type": "code",
   "execution_count": null,
   "id": "5e67f09a-cd8a-4153-86f0-45dfd177f7dc",
   "metadata": {},
   "outputs": [],
   "source": [
    "با توجه به نرمال نبودن داده ها از کتابخانه\n",
    "StandardScaler\n",
    "برای نرمالسازی داده ها استفاده می کنیم"
   ]
  },
  {
   "cell_type": "code",
   "execution_count": 21,
   "id": "edf859a0-3828-4adb-8f7e-c5d99c7ffe6a",
   "metadata": {},
   "outputs": [],
   "source": [
    "from sklearn.linear_model import LogisticRegression\n",
    "from sklearn.naive_bayes import GaussianNB\n",
    "\n",
    "clf = LogisticRegression()\n",
    "clf.fit(X_train, y_train)\n",
    "y_pred_prob = clf.predict_proba(X_test)\n",
    "y_pred = clf.predict(X_test)"
   ]
  },
  {
   "cell_type": "code",
   "execution_count": null,
   "id": "f7015142-ffb6-466e-9d2c-c3a68abc9a69",
   "metadata": {},
   "outputs": [],
   "source": [
    "در اینجا مدل مربوطه را برای طبقه بند مشخص میکنیم ما از دو مدل\n",
    "LogisticRegression\n",
    "GaussianNB\n",
    "استفاده کرده ایم"
   ]
  },
  {
   "cell_type": "code",
   "execution_count": 22,
   "id": "824b6cd0-80e9-445d-873e-f6b6f8936bee",
   "metadata": {},
   "outputs": [
    {
     "name": "stdout",
     "output_type": "stream",
     "text": [
      "1\n",
      "1\n",
      "[0.25157992 0.74842008]\n"
     ]
    }
   ],
   "source": [
    "i=5\n",
    "print(y_test[i])\n",
    "print(y_pred[i])\n",
    "print(y_pred_prob[i])"
   ]
  },
  {
   "cell_type": "code",
   "execution_count": null,
   "id": "e6a83418-8d23-40ae-819e-47bc44d4cb63",
   "metadata": {},
   "outputs": [],
   "source": [
    "احتمالات پیش بینی شده برای داده اندیس 5\n",
    "را به همراه کلاس پیش بینی شده و کلاس واقعی را نمایش می دهیم"
   ]
  },
  {
   "cell_type": "code",
   "execution_count": 23,
   "id": "48dd49b4-ffe8-4d6e-98e8-d39d2f14054d",
   "metadata": {
    "tags": []
   },
   "outputs": [
    {
     "name": "stdout",
     "output_type": "stream",
     "text": [
      "Accuracy Score: 0.71\n",
      "F1 Score: 0.83\n",
      "ROC AUC Score: 0.5\n"
     ]
    }
   ],
   "source": [
    "from sklearn import metrics\n",
    "\n",
    "print(f\"Accuracy Score: {round(metrics.accuracy_score(y_test, y_pred), 2)}\")\n",
    "print(f\"F1 Score: {round(metrics.f1_score(y_test, y_pred),2)}\")\n",
    "print(f\"ROC AUC Score: {round(metrics.roc_auc_score(y_test, y_pred),2)}\")"
   ]
  },
  {
   "cell_type": "code",
   "execution_count": null,
   "id": "dcf55f96-f7dc-4415-9fc2-4dd9c9da9d52",
   "metadata": {},
   "outputs": [],
   "source": [
    "معیار ارزیابی ها را نمایش می دهیم"
   ]
  }
 ],
 "metadata": {
  "kernelspec": {
   "display_name": "Python 3 (ipykernel)",
   "language": "python",
   "name": "python3"
  },
  "language_info": {
   "codemirror_mode": {
    "name": "ipython",
    "version": 3
   },
   "file_extension": ".py",
   "mimetype": "text/x-python",
   "name": "python",
   "nbconvert_exporter": "python",
   "pygments_lexer": "ipython3",
   "version": "3.9.13"
  }
 },
 "nbformat": 4,
 "nbformat_minor": 5
}
